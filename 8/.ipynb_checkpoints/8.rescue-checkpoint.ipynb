{
 "cells": [
  {
   "cell_type": "code",
   "execution_count": 3,
   "id": "c9cacd2b",
   "metadata": {},
   "outputs": [],
   "source": [
    "with open('MapDirections.txt', 'r') as file:\n",
    "        map = file.readlines()\n",
    "        path = map[0]\n",
    "        nodes = map[2:]"
   ]
  },
  {
   "cell_type": "code",
   "execution_count": 6,
   "id": "f7e61b5d",
   "metadata": {},
   "outputs": [],
   "source": [
    "nodeString = 'PND = (LHJ, NLX)'\n",
    "def cleanNodes(nodeString):\n",
    "    splitList = ['= ', '(', ')', '\\n']\n",
    "    for chars in splitList:\n",
    "        nodeString = nodeString.replace(chars, \"\")\n",
    "    return nodeString.split()\n",
    "\n",
    "nodes = [cleanNodes(nodeString) for nodeString in nodes]\n",
    "boolPath = [0 if chars == 'L' else 1 for chars in path] # Transform the RL into a bool array to match list indicies.\n",
    "choices = [node[1:] for node in nodes]\n",
    "footsteps = [node[0] for node in nodes]\n",
    "mapDict = dict(zip(footsteps,choices))"
   ]
  },
  {
   "cell_type": "code",
   "execution_count": 7,
   "id": "427a1caf",
   "metadata": {},
   "outputs": [],
   "source": [
    "def mapWalker(pathing):\n",
    "    nextStep = pathing[1]\n",
    "    nextChoice = mapDict[nextStep]\n",
    "    print(nextChoice)\n",
    "    nextNode = nextChoice[boolPath[pathing[0]]].strip(',')\n",
    "    print(nextNode)\n",
    "    pathing[0] += 1\n",
    "    return [pathing[0], nextNode]"
   ]
  },
  {
   "cell_type": "code",
   "execution_count": null,
   "id": "31129e38",
   "metadata": {},
   "outputs": [],
   "source": []
  }
 ],
 "metadata": {
  "kernelspec": {
   "display_name": "Python 3 (ipykernel)",
   "language": "python",
   "name": "python3"
  },
  "language_info": {
   "codemirror_mode": {
    "name": "ipython",
    "version": 3
   },
   "file_extension": ".py",
   "mimetype": "text/x-python",
   "name": "python",
   "nbconvert_exporter": "python",
   "pygments_lexer": "ipython3",
   "version": "3.11.5"
  }
 },
 "nbformat": 4,
 "nbformat_minor": 5
}

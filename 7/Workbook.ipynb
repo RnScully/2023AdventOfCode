{
 "cells": [
  {
   "cell_type": "code",
   "execution_count": 1,
   "id": "294cf808",
   "metadata": {},
   "outputs": [],
   "source": [
    "import numpy as np\n",
    "from collections import defaultdict"
   ]
  },
  {
   "cell_type": "code",
   "execution_count": 34,
   "id": "7d26e1ee",
   "metadata": {},
   "outputs": [
    {
     "data": {
      "text/plain": [
       "1000"
      ]
     },
     "execution_count": 34,
     "metadata": {},
     "output_type": "execute_result"
    }
   ],
   "source": [
    "data = \"input.txt\"\n",
    "with open(data, 'r') as file:\n",
    "        lines = file.readlines()\n",
    "        \n",
    "len(lines)"
   ]
  },
  {
   "cell_type": "markdown",
   "id": "a126d533",
   "metadata": {},
   "source": [
    "Every hand is exactly one type. From strongest to weakest, they are:\n",
    "\n",
    "Five of a kind, where all five cards have the same label: AAAAA\n",
    "Four of a kind, where four cards have the same label and one card has a different label: AA8AA\n",
    "Full house, where three cards have the same label, and the remaining two cards share a different label: 23332\n",
    "Three of a kind, where three cards have the same label, and the remaining two cards are each different from any other card in the hand: TTT98\n",
    "Two pair, where two cards share one label, two other cards share a second label, and the remaining card has a third label: 23432\n",
    "One pair, where two cards share one label, and the other three cards have a different label from the pair and each other: A23A4\n",
    "High card, where all cards' labels are distinct: 23456"
   ]
  },
  {
   "cell_type": "code",
   "execution_count": 12,
   "id": "ef465616",
   "metadata": {},
   "outputs": [],
   "source": [
    "def Five_of_a_kind(hand):\n",
    "    \n",
    "    pass\n"
   ]
  },
  {
   "cell_type": "code",
   "execution_count": 13,
   "id": "e1f70ce9",
   "metadata": {},
   "outputs": [],
   "source": [
    "def Four_of_a_kind():\n",
    "    pass"
   ]
  },
  {
   "cell_type": "code",
   "execution_count": 90,
   "id": "6a45451d",
   "metadata": {
    "scrolled": true
   },
   "outputs": [
    {
     "name": "stdout",
     "output_type": "stream",
     "text": [
      "hand: ['K', 'T', 'T', '5', 'T']\n",
      "bid: 1\n",
      "duplicates:  {'T': [1, 2, 4]}\n",
      "dict_keys(['T'])\n",
      "high card\n"
     ]
    }
   ],
   "source": [
    "turn = '12345 4\\n'\n",
    "\n",
    "def twoPair(turn):\n",
    "    turn = list(turn)\n",
    "    bid = turn[6]\n",
    "    hand = turn[:5] \n",
    "    print('hand:', hand)\n",
    "    print('bid:', bid)\n",
    "    dupes = defaultdict(list)\n",
    "    for i,item in enumerate(hand):\n",
    "        dupes[item].append(i)\n",
    "    dupes = {k:v for k,v in dupes.items() if len(v)>1}\n",
    "    print('duplicates: ', dupes)\n",
    "    dupeNames = dupes.keys()\n",
    "    print(dupeNames) \n",
    "    dupes = {}\n",
    "    cards = list(dupes.keys())\n",
    "    if len(cards) == 1:\n",
    "        number_of_dupes = len(d[cards[0]])\n",
    "        if number_of_dupes == 2:\n",
    "            print(\"two of a kind\")\n",
    "        elif number_of_dupes == 3:\n",
    "            print(\"three of a kind\")\n",
    "        elif number_of_dupes == 4:\n",
    "            print(\"four of a kind\")\n",
    "        elif number_of_dupes == 5:\n",
    "            print(\"five of a kind\")\n",
    "    #find out how many cards\n",
    "    elif len(cards) == 2: #either 2 dupes or full house\n",
    "        if len(dupes[cards[0]]) == 2 and len(dupes[cards[1]]) == 2:\n",
    "            print(\"two pair\")\n",
    "        elif len(dupes[cards[0]]) == 3 or len(dupes[cards[1]]) == 3:\n",
    "            print(\"full house\")\n",
    "    #find out how many of each card\n",
    "    elif len(cards) == 0:\n",
    "        print(\"high card\")\n",
    "    #no duplicates\n",
    "\n",
    "twoPair(lines[5])"
   ]
  },
  {
   "cell_type": "code",
   "execution_count": 15,
   "id": "6fe5e0f8",
   "metadata": {},
   "outputs": [
    {
     "data": {
      "text/plain": [
       "'T2T2J 5\\n'"
      ]
     },
     "execution_count": 15,
     "metadata": {},
     "output_type": "execute_result"
    }
   ],
   "source": [
    "lines[3]"
   ]
  },
  {
   "cell_type": "code",
   "execution_count": 83,
   "id": "2a567e4d",
   "metadata": {},
   "outputs": [
    {
     "name": "stdout",
     "output_type": "stream",
     "text": [
      "high card\n"
     ]
    }
   ],
   "source": []
  },
  {
   "cell_type": "code",
   "execution_count": 25,
   "id": "4f0d6df0",
   "metadata": {},
   "outputs": [
    {
     "ename": "SyntaxError",
     "evalue": "invalid syntax (562100932.py, line 4)",
     "output_type": "error",
     "traceback": [
      "\u001b[1;36m  Cell \u001b[1;32mIn[25], line 4\u001b[1;36m\u001b[0m\n\u001b[1;33m    If you need to know the indices,\u001b[0m\n\u001b[1;37m       ^\u001b[0m\n\u001b[1;31mSyntaxError\u001b[0m\u001b[1;31m:\u001b[0m invalid syntax\n"
     ]
    }
   ],
   "source": [
    "\n",
    "If you need to know the indices,\n",
    "\n"
   ]
  },
  {
   "cell_type": "code",
   "execution_count": 26,
   "id": "f847e414",
   "metadata": {},
   "outputs": [
    {
     "data": {
      "text/plain": [
       "[20]"
      ]
     },
     "execution_count": 26,
     "metadata": {},
     "output_type": "execute_result"
    }
   ],
   "source": [
    "from collections import Counter\n",
    "mylist = [20, 30, 25, 20]\n",
    "[k for k,v in Counter(mylist).items() if v>1]"
   ]
  },
  {
   "cell_type": "code",
   "execution_count": 27,
   "id": "e24f14bb",
   "metadata": {},
   "outputs": [],
   "source": [
    "\n",
    "D = defaultdict(list)\n",
    "for i,item in enumerate(mylist):\n",
    "    D[item].append(i)\n",
    "D = {k:v for k,v in D.items() if len(v)>1}"
   ]
  },
  {
   "cell_type": "code",
   "execution_count": 28,
   "id": "58706270",
   "metadata": {},
   "outputs": [
    {
     "data": {
      "text/plain": [
       "{20: [0, 3]}"
      ]
     },
     "execution_count": 28,
     "metadata": {},
     "output_type": "execute_result"
    }
   ],
   "source": [
    "D"
   ]
  },
  {
   "cell_type": "code",
   "execution_count": null,
   "id": "d9fe6e08",
   "metadata": {},
   "outputs": [],
   "source": []
  }
 ],
 "metadata": {
  "kernelspec": {
   "display_name": "Python 3 (ipykernel)",
   "language": "python",
   "name": "python3"
  },
  "language_info": {
   "codemirror_mode": {
    "name": "ipython",
    "version": 3
   },
   "file_extension": ".py",
   "mimetype": "text/x-python",
   "name": "python",
   "nbconvert_exporter": "python",
   "pygments_lexer": "ipython3",
   "version": "3.11.5"
  }
 },
 "nbformat": 4,
 "nbformat_minor": 5
}

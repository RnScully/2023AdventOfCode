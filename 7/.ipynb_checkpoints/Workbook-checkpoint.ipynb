{
 "cells": [
  {
   "cell_type": "code",
   "execution_count": 1,
   "id": "dc164b4b",
   "metadata": {},
   "outputs": [],
   "source": [
    "import numpy as np\n",
    "from collections import defaultdict"
   ]
  },
  {
   "cell_type": "code",
   "execution_count": 34,
   "id": "fa4b4798",
   "metadata": {},
   "outputs": [
    {
     "data": {
      "text/plain": [
       "1000"
      ]
     },
     "execution_count": 34,
     "metadata": {},
     "output_type": "execute_result"
    }
   ],
   "source": [
    "data = \"input.txt\"\n",
    "with open(data, 'r') as file:\n",
    "        lines = file.readlines()\n",
    "        \n",
    "len(lines)"
   ]
  },
  {
   "cell_type": "markdown",
   "id": "52612510",
   "metadata": {},
   "source": [
    "Every hand is exactly one type. From strongest to weakest, they are:\n",
    "\n",
    "Five of a kind, where all five cards have the same label: AAAAA\n",
    "Four of a kind, where four cards have the same label and one card has a different label: AA8AA\n",
    "Full house, where three cards have the same label, and the remaining two cards share a different label: 23332\n",
    "Three of a kind, where three cards have the same label, and the remaining two cards are each different from any other card in the hand: TTT98\n",
    "Two pair, where two cards share one label, two other cards share a second label, and the remaining card has a third label: 23432\n",
    "One pair, where two cards share one label, and the other three cards have a different label from the pair and each other: A23A4\n",
    "High card, where all cards' labels are distinct: 23456"
   ]
  },
  {
   "cell_type": "code",
   "execution_count": 12,
   "id": "11888813",
   "metadata": {},
   "outputs": [],
   "source": [
    "def Five_of_a_kind(hand):\n",
    "    \n",
    "    pass\n"
   ]
  },
  {
   "cell_type": "code",
   "execution_count": 13,
   "id": "fb923ae4",
   "metadata": {},
   "outputs": [],
   "source": [
    "def Four_of_a_kind():\n",
    "    pass"
   ]
  },
  {
   "cell_type": "code",
   "execution_count": 48,
   "id": "ebed1650",
   "metadata": {
    "scrolled": true
   },
   "outputs": [
    {
     "name": "stdout",
     "output_type": "stream",
     "text": [
      "['1', 'A', 'A', 'A', 'A']\n",
      "4\n",
      "{'A': [1, 2, 3, 4]}\n",
      "dict_keys(['A'])\n",
      "five in a row\n"
     ]
    }
   ],
   "source": [
    "turn = '1AAAA 4\\n'\n",
    "\n",
    "def twoPair(turn):\n",
    "    turn = list(turn)\n",
    "    bid = turn[6]\n",
    "    hand = turn[:5] \n",
    "    print(hand)\n",
    "    print(bid)\n",
    "    dupes = defaultdict(list)\n",
    "    for i,item in enumerate(hand):\n",
    "        dupes[item].append(i)\n",
    "    dupes = {k:v for k,v in dupes.items() if len(v)>1}\n",
    "    print(dupes)\n",
    "    dupeNames = dupes.keys()\n",
    "    print(dupeNames)\n",
    "    \n",
    "    if len(dupeNames) < 1:\n",
    "        print(\"high card\")\n",
    "    elif : #four of a kind\n",
    "        print('four of a kind')\n",
    "    #elif #full house\n",
    "    #elif #three of a kind    \n",
    "    #elif #two pair\n",
    "    elif len(dupeNames) == 1:#five in a row?\n",
    "        print(\"five in a row\")\n",
    "         \n",
    "twoPair(turn)\n"
   ]
  },
  {
   "cell_type": "code",
   "execution_count": 15,
   "id": "d20a4154",
   "metadata": {},
   "outputs": [
    {
     "data": {
      "text/plain": [
       "'T2T2J 5\\n'"
      ]
     },
     "execution_count": 15,
     "metadata": {},
     "output_type": "execute_result"
    }
   ],
   "source": [
    "lines[3]"
   ]
  },
  {
   "cell_type": "code",
   "execution_count": 62,
   "id": "de002642",
   "metadata": {},
   "outputs": [
    {
     "name": "stdout",
     "output_type": "stream",
     "text": [
      "4\n"
     ]
    }
   ],
   "source": [
    "d = {'A': [1, 2, 3, 4]}\n",
    "cards = list(d.keys())\n",
    "if len(cards) == 1:\n",
    "    number_of_dupes = len(d[cards[0]])\n",
    "#find out how many cards\n",
    "if len(cards) == 2:\n",
    "    pass\n",
    "#find out how many of each card\n",
    "elif len(cards) == 0:\n",
    "    pass\n",
    "#no duplicates"
   ]
  },
  {
   "cell_type": "code",
   "execution_count": 25,
   "id": "8e2a693d",
   "metadata": {},
   "outputs": [
    {
     "ename": "SyntaxError",
     "evalue": "invalid syntax (562100932.py, line 4)",
     "output_type": "error",
     "traceback": [
      "\u001b[1;36m  Cell \u001b[1;32mIn[25], line 4\u001b[1;36m\u001b[0m\n\u001b[1;33m    If you need to know the indices,\u001b[0m\n\u001b[1;37m       ^\u001b[0m\n\u001b[1;31mSyntaxError\u001b[0m\u001b[1;31m:\u001b[0m invalid syntax\n"
     ]
    }
   ],
   "source": [
    "\n",
    "If you need to know the indices,\n",
    "\n"
   ]
  },
  {
   "cell_type": "code",
   "execution_count": 26,
   "id": "bf58f545",
   "metadata": {},
   "outputs": [
    {
     "data": {
      "text/plain": [
       "[20]"
      ]
     },
     "execution_count": 26,
     "metadata": {},
     "output_type": "execute_result"
    }
   ],
   "source": [
    "from collections import Counter\n",
    "mylist = [20, 30, 25, 20]\n",
    "[k for k,v in Counter(mylist).items() if v>1]"
   ]
  },
  {
   "cell_type": "code",
   "execution_count": 27,
   "id": "45ec3f36",
   "metadata": {},
   "outputs": [],
   "source": [
    "\n",
    "D = defaultdict(list)\n",
    "for i,item in enumerate(mylist):\n",
    "    D[item].append(i)\n",
    "D = {k:v for k,v in D.items() if len(v)>1}"
   ]
  },
  {
   "cell_type": "code",
   "execution_count": 28,
   "id": "69c257e3",
   "metadata": {},
   "outputs": [
    {
     "data": {
      "text/plain": [
       "{20: [0, 3]}"
      ]
     },
     "execution_count": 28,
     "metadata": {},
     "output_type": "execute_result"
    }
   ],
   "source": [
    "D"
   ]
  },
  {
   "cell_type": "code",
   "execution_count": null,
   "id": "63337ccb",
   "metadata": {},
   "outputs": [],
   "source": []
  }
 ],
 "metadata": {
  "kernelspec": {
   "display_name": "Python 3 (ipykernel)",
   "language": "python",
   "name": "python3"
  },
  "language_info": {
   "codemirror_mode": {
    "name": "ipython",
    "version": 3
   },
   "file_extension": ".py",
   "mimetype": "text/x-python",
   "name": "python",
   "nbconvert_exporter": "python",
   "pygments_lexer": "ipython3",
   "version": "3.11.5"
  }
 },
 "nbformat": 4,
 "nbformat_minor": 5
}
